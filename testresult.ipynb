{
 "cells": [
  {
   "cell_type": "code",
   "execution_count": 1,
   "metadata": {},
   "outputs": [],
   "source": [
    "import cv2 as cv\n",
    "import copy\n",
    "import numpy as np#添加模块和矩阵模块\n",
    "import matplotlib.pyplot as plt\n",
    "import os"
   ]
  },
  {
   "cell_type": "code",
   "execution_count": 13,
   "metadata": {},
   "outputs": [],
   "source": [
    "def detectface(img,infile):\n",
    "    infilename = os.path.split(infile)[1]\n",
    "    #用\"a\"打开用于追加\n",
    "    f = open(\"./val_output/ref.txt\",\"a\")\n",
    "    #使用自己训练出的脸\n",
    "    face_cascade = cv.CascadeClassifier('./detector/.xml')\n",
    "    face_cascade.load('./detector/haarcascade_frontalface_default.xml')\n",
    "    frame1=copy.copy(img)\n",
    "    #人脸识别\n",
    "    gray = cv.cvtColor(frame1, cv.COLOR_BGR2GRAY)\n",
    "    # 脸\n",
    "    faces = face_cascade.detectMultiScale(gray,1.1, 5) \n",
    "    for (x, y, w, h) in faces:\n",
    "        cv.rectangle(frame1, (x, y), (x + w, y + h), (255, 0, 0), 2)\n",
    "    #显示在图上\n",
    "    #cv.imshow(\"facewindow\",frame1)\n",
    "    #cv.waitKey(0)\n",
    "    \n",
    "    #将数据写在输出的文档中\n",
    "    f.write(infilename + \" \" + str(len(faces)) + \" \")\n",
    "    if len(faces) != 0:\n",
    "        for (x, y, w, h) in faces:\n",
    "            ##当有多个脸时，应该要排序！！！！！！！！！---注意！！！！\n",
    "            f.write(str(x) + \" \" + str(y) + \" \" + str(w) + \" \" + str(h) + \" \")\n",
    "    f.write(\"\\n\")\n",
    "    f.close()"
   ]
  },
  {
   "cell_type": "code",
   "execution_count": 3,
   "metadata": {},
   "outputs": [],
   "source": [
    "# 一个窗口窗口显示多张图片：python3 + opencv3的版本。\n",
    "# 传入的参数是：\n",
    "# 1. 图片的集合（大小、通道数需要一致，否则黑屏）\n",
    "# 2. 想显示到一张图片的大小\n",
    "# 3. 图片间隔大小。\n",
    "\n",
    "# 如果图片太多，会自动省略多的图片，不够严谨。\n",
    "def show_in_one(images, show_size=(820, 820), blank_size=2, window_name=\"merge\"):\n",
    "    small_h, small_w = images[0].shape[:2]\n",
    "    column = int(show_size[1] / (small_w + blank_size))\n",
    "    row = int(show_size[0] / (small_h + blank_size))\n",
    "    shape = [show_size[0], show_size[1]]\n",
    "    for i in range(2, len(images[0].shape)):\n",
    "        shape.append(images[0].shape[i])\n",
    "    merge_img = np.zeros(tuple(shape), images[0].dtype)\n",
    "\n",
    "    max_count = len(images)\n",
    "    count = 0\n",
    "    for i in range(row):\n",
    "        if count >= max_count:\n",
    "            break\n",
    "        for j in range(column):\n",
    "            if count < max_count:\n",
    "                im = images[count]\n",
    "                t_h_start = i * (small_h + blank_size)\n",
    "                t_w_start = j * (small_w + blank_size)\n",
    "                t_h_end = t_h_start + im.shape[0]\n",
    "                t_w_end = t_w_start + im.shape[1]\n",
    "                merge_img[t_h_start:t_h_end, t_w_start:t_w_end] = im\n",
    "                count = count + 1\n",
    "            else:\n",
    "                break\n",
    "    if count < max_count:\n",
    "        print(\"图片总数为： %s\" % (max_count - count))\n",
    "    cv.namedWindow(window_name)\n",
    "    cv.imshow(window_name, merge_img)"
   ]
  },
  {
   "cell_type": "code",
   "execution_count": 4,
   "metadata": {},
   "outputs": [],
   "source": [
    "def showdiffpic(ref,res):\n",
    "    reflist = ref.split(\" \") #[\"./val_data/000.img\",'num',x','y','w','h']\n",
    "    reslist = res.split(\" \")\n",
    "    path = \"./val_data/\" + reflist[0]\n",
    "    img = cv.imread(path)\n",
    "    imgres = img.copy()\n",
    "    #对ref画bbbox\n",
    "    refnum = int(reflist[1])\n",
    "    for i in range(refnum):\n",
    "        #对检测到的每张脸算一下iou\n",
    "        refrect = list(map(int,reflist[2 + 4 * i: (2 + 4 * i + 4)]))\n",
    "        cv.rectangle(img,(refrect[0],refrect[1]),(refrect[0] + refrect[2],refrect[1] + refrect[3]),(255, 0, 0), 2)\n",
    "    cv.namedWindow(\"the reference pic\")\n",
    "    cv.imshow(\"the reference pic\",img)\n",
    "    \n",
    "    \n",
    "    #对res画bbbox\n",
    "    resnum = int(reslist[1])\n",
    "    for i in range(resnum):\n",
    "        #对检测到的每张脸算一下iou\n",
    "        resrect = list(map(int,reslist[2 + 4 * i: (2 + 4 * i + 4)]))\n",
    "        cv.rectangle(imgres,(resrect[0],resrect[1]),(resrect[0] + resrect[2],resrect[1] + resrect[3]),(255, 0, 0), 2)\n",
    "    cv.namedWindow(\"the result_actual pic\")\n",
    "    cv.imshow(\"the result_actual pic\",imgres)\n",
    "    \n",
    "    cv.waitKey(0)\n",
    "    cv.destroyAllWindows()"
   ]
  },
  {
   "cell_type": "markdown",
   "metadata": {},
   "source": [
    "showdiffpic(\"000001.jpg 1 40 74 100 100 \",\"000001.jpg 1 57 56 101 135\")"
   ]
  },
  {
   "cell_type": "code",
   "execution_count": 5,
   "metadata": {},
   "outputs": [],
   "source": [
    "def test_performance(refname,resname,areathreshold):\n",
    "    reffilename = refname\n",
    "    resfilename = resname\n",
    "    reffile = open(reffilename)\n",
    "    resfile = open(resfilename)\n",
    "    TP = 0\n",
    "    TN = 0\n",
    "    FP = 0\n",
    "    FN = 0\n",
    "    #一行一行(一个例子一个例子)的读\n",
    "    while(True):\n",
    "        ref = reffile.readline().strip()\n",
    "        res = resfile.readline().strip()\n",
    "        if ref == '' or res == '':\n",
    "            break\n",
    "        if ref.split(\" \")[0] != res.split(\" \")[0]:\n",
    "            print(ref.split(\" \")[0])\n",
    "            print(res.split(\" \")[0])\n",
    "            break\n",
    "        #将文本分开\n",
    "        reflist = ref.split(' ')[1:]\n",
    "        reslist = res.split(' ')[1:]\n",
    "        #先只写ref\n",
    "        refdectect = int(reflist[0])\n",
    "        resdectect = int(reslist[0])\n",
    "        if resdectect == 0 or refdectect == 0:\n",
    "            if refdectect == 0 and resdectect == 0:\n",
    "                #FN\n",
    "                FN += 1\n",
    "                continue\n",
    "            if refdectect == 0:\n",
    "                #TN\n",
    "                TN += 1\n",
    "                continue\n",
    "            else:\n",
    "                #FP\n",
    "                FP += 1\n",
    "                showdiffpic(ref,res)\n",
    "                continue\n",
    "        else:\n",
    "            #说明两个都检测到有物体\n",
    "            if resdectect != refdectect:\n",
    "                #说明两者检测到的物体数量不同\n",
    "                FP += 1\n",
    "                showdiffpic(ref,res)\n",
    "                continue\n",
    "            else:\n",
    "                iouave = 0\n",
    "                for i in range(resdectect):\n",
    "                    #对检测到的每张脸算一下iou\n",
    "                    refrect = map(int,reflist[1 + 4 * i: (1 + 4 * i + 4)])\n",
    "                    resrect = map(int,reslist[1 + 4 * i: (1 + 4 * i + 4)])\n",
    "                    #看两者的IOU有多大\n",
    "                    area = iou(refrect,resrect)\n",
    "                    iouave += area\n",
    "                iouave /= resdectect\n",
    "                if(iouave > areathreshold):\n",
    "                    #TP\n",
    "                    TP += 1\n",
    "                else:\n",
    "                    FP += 1\n",
    "                    showdiffpic(ref,res)\n",
    "                continue\n",
    "    reffile.close()\n",
    "    resfile.close()\n",
    "    return {\"TP\":TP,\"FP\":FP,\"TN\":TN,\"FN\":FN}"
   ]
  },
  {
   "cell_type": "code",
   "execution_count": 6,
   "metadata": {},
   "outputs": [
    {
     "data": {
      "text/plain": [
       "('a/b/c/d', 'e')"
      ]
     },
     "execution_count": 6,
     "metadata": {},
     "output_type": "execute_result"
    }
   ],
   "source": [
    "os.path.split(\"a/b/c/d/e\")"
   ]
  },
  {
   "cell_type": "code",
   "execution_count": 7,
   "metadata": {},
   "outputs": [
    {
     "name": "stdout",
     "output_type": "stream",
     "text": [
      "['a', 'b', 'c', 'd\\n']\n"
     ]
    }
   ],
   "source": [
    "a = \"a b c d\\n\"\n",
    "print(a.split(\" \"))"
   ]
  },
  {
   "cell_type": "markdown",
   "metadata": {},
   "source": [
    "test for the test_performance function\n",
    "refname = \"test_val_function/reffile.txt\"\n",
    "resname = \"test_val_function/resfile.txt\"\n",
    "print(test_performance(refname,resname,0.8))"
   ]
  },
  {
   "cell_type": "code",
   "execution_count": 8,
   "metadata": {},
   "outputs": [],
   "source": [
    "def iou(box1, box2):\n",
    "    \"\"\"Implement the intersection over union (IoU) between box1 and box2\n",
    "    \n",
    "    Arguments:\n",
    "    box1 -- first box, list object with coordinates (x1, y1, x2, y2)\n",
    "    box2 -- second box, list object with coordinates (x1, y1, x2, y2)\n",
    "    \"\"\"\n",
    "    \n",
    "    box1 = list(box1)\n",
    "    box2 = list(box2)\n",
    "    box1[2] += box1[0]\n",
    "    box1[3] += box1[1]\n",
    "    box2[2] += box2[0]\n",
    "    box2[3] += box2[1]\n",
    "    \n",
    "    # Calculate the (y1, x1, y2, x2) coordinates of the intersection of box1 and box2. Calculate its Area.\n",
    "    ### START CODE HERE ### (≈ 5 lines)\n",
    "    xi1 = max(box1[0], box2[0])\n",
    "    yi1 = max(box1[1], box2[1])\n",
    "    xi2 = min(box1[2], box2[2])\n",
    "    yi2 = min(box1[3], box2[3])\n",
    "    if xi2 - xi1 > 0 and yi2 - yi1 > 0:\n",
    "        inter_area =  (xi2-xi1) * (yi2-yi1)\n",
    "    else:\n",
    "         inter_area = 0\n",
    "    ### END CODE HERE ###\n",
    "    # Calculate the Union area by using Formula: Union(A,B) = A + B - Inter(A,B)\n",
    "    ### START CODE HERE ### (≈ 3 lines)\n",
    "    box1_area = (box1[2]-box1[0]) * (box1[3]-box1[1])\n",
    "    box2_area = (box2[2]-box2[0]) * (box2[3]-box2[1])\n",
    "    union_area = box1_area + box2_area - inter_area \n",
    "    ### END CODE HERE ###\n",
    "    \n",
    "    # compute the IoU\n",
    "    ### START CODE HERE ### (≈ 1 line)\n",
    "    iou = inter_area / union_area if inter_area > 0 else 0\n",
    "    ### END CODE HERE ###\n",
    "    \n",
    "    return iou\n"
   ]
  },
  {
   "cell_type": "code",
   "execution_count": 9,
   "metadata": {},
   "outputs": [],
   "source": [
    "#结果后处理\n",
    "import pandas as pd\n",
    "def postshow(resdic):\n",
    "    TP = resdic['TP']\n",
    "    FP = resdic['FP']\n",
    "    TN = resdic[\"TN\"]\n",
    "    FN = resdic[\"FN\"]\n",
    "    result = pd.DataFrame(data = {\"P\":[TP,FP],\"N\":[TN,FN]},index = [\"T\",\"F\"])\n",
    "    print(result)\n",
    "    print(\"the accuracy number is :\",(TP+FN)/(TP+TN+FP+FN)*100,\"%\")\n",
    "    print(\"查准率：\",TP/(TP+TN)*100,\"%\")\n",
    "    print(\"误检率: \",FP/(FP+FN)*100,\"%\")"
   ]
  },
  {
   "cell_type": "code",
   "execution_count": 14,
   "metadata": {
    "scrolled": false
   },
   "outputs": [
    {
     "name": "stdout",
     "output_type": "stream",
     "text": [
      "     P    N\n",
      "T  314   30\n",
      "F   98  195\n",
      "the accuracy number is : 79.90580847723704 %\n",
      "查准率： 91.27906976744185 %\n",
      "误检率:  33.44709897610921 %\n"
     ]
    }
   ],
   "source": [
    "import argparse\n",
    "import glob\n",
    "import numpy as np\n",
    "import os\n",
    "from pathlib import Path\n",
    "\n",
    "if __name__ == '__main__':\n",
    "#     parser = argparse.ArgumentParser(description='Demonstrate mouse interaction with images')\n",
    "#     parser.add_argument(\"-i\", \"--input\", help=\"Input directory.\")\n",
    "#     args = parser.parse_args()\n",
    "#     path = args.input\n",
    "#     if path is None:\n",
    "#         # 修改为自己的图片存放的文件夹\n",
    "#         test_dir = \"./\"\n",
    "#         path = test_dir\n",
    "\n",
    "    path = './val_data'\n",
    "    debug_images = []\n",
    "    i = 0\n",
    "    #先清空输出\n",
    "    f = open(\"./val_output/ref.txt\",\"w\")\n",
    "    f.close()\n",
    "    for infile in glob.glob(os.path.join(path,'*.*')):\n",
    "        infile = Path(infile).as_posix()\n",
    "        infile = os.path.join('./',infile)\n",
    "        ext = os.path.splitext(infile)[1][1:]  # get the filename extenstion\n",
    "        if ext == \"png\" or ext == \"jpg\" or ext == \"bmp\" or ext == \"tiff\" or ext == \"pbm\":\n",
    "            #print(infile)\n",
    "            img = cv.imread(infile)\n",
    "            #img = cv.resize(img,(120,120))\n",
    "            #对每张图片进行检测并且输出到ref.txt中\n",
    "            detectface(img,infile)\n",
    "            if img is None:\n",
    "                continue\n",
    "            else:\n",
    "                debug_images.append(img)\n",
    "    refname = \"./val_output/ref.txt\"\n",
    "    resname = \"./val_output/res.txt\"\n",
    "    resdic = test_performance(refname,resname,0.6)\n",
    "    postshow(resdic)\n",
    "    #show_in_one(debug_images)\n",
    "   # cv.waitKey(0)\n",
    "    cv.destroyAllWindows()"
   ]
  }
 ],
 "metadata": {
  "kernelspec": {
   "display_name": "Python 3",
   "language": "python",
   "name": "python3"
  },
  "language_info": {
   "codemirror_mode": {
    "name": "ipython",
    "version": 3
   },
   "file_extension": ".py",
   "mimetype": "text/x-python",
   "name": "python",
   "nbconvert_exporter": "python",
   "pygments_lexer": "ipython3",
   "version": "3.7.3"
  }
 },
 "nbformat": 4,
 "nbformat_minor": 2
}
